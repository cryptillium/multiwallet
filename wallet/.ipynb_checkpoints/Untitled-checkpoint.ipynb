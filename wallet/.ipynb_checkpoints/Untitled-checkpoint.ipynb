{
 "cells": [
  {
   "cell_type": "code",
   "execution_count": 1,
   "id": "0bf852d7-604c-401f-8767-10de5dcfdc43",
   "metadata": {},
   "outputs": [
    {
     "name": "stdout",
     "output_type": "stream",
     "text": [
      "mnemonic = dune neck olympic strategy creek auction weasel suit image then label bless tone pig wrestle\n",
      "btc-test\n",
      "account: <PrivateKeyTestnet: mvqHXEKjzWCFWtAJMUrfBZp8SHiExZkgpc>\n",
      "privateKey: cMsQ8UFfk52X9zfPJ4R4wrCm3ouGZZAGsvAQeNLUxkwfFCB1jsEn\n"
     ]
    }
   ],
   "source": [
    "# Import dependencies\n",
    "import subprocess\n",
    "import json\n",
    "from dotenv import load_dotenv\n",
    "import os\n",
    "\n",
    "# Load and set environment variables\n",
    "load_dotenv()\n",
    "mnemonic=os.getenv(\"mnemonic\")\n",
    "\n",
    "\n",
    "# Import constants.py and necessary functions from bit and web3\n",
    "import constants\n",
    "from web3 import Web3\n",
    "from web3.middleware import geth_poa_middleware\n",
    "from bit import PrivateKeyTestnet, network\n",
    "from eth_account import Account\n",
    "\n",
    "# This is just the manual process for testing the symbolic linking for the hdwallet\n",
    "\n",
    "# export MSYS=winsymlinks:nativestrict\n",
    "# note to remove a symbolic link, we can just delete the file from the directory\n",
    "# ./hd-wallet-derive/hd-wallet-derive.php --key=xprv9zbB6Xchu2zRkf6jSEnH9vuy7tpBuq2njDRr9efSGBXSYr1QtN8QHRur28QLQvKRqFThCxopdS1UD61a5q6jGyuJPGLDV9XfYHQto72DAE8 --cols=path,address --coin=ZEC --numderive=3 -g\n",
    "# ln -s hd-wallet-derive/hd-wallet-derive.php derive\n",
    "# ./derive --key=xprv9zbB6Xchu2zRkf6jSEnH9vuy7tpBuq2njDRr9efSGBXSYr1QtN8QHRur28QLQvKRqFThCxopdS1UD61a5q6jGyuJPGLDV9XfYHQto72DAE8 --cols=path,address --coin=ZEC --numderive=3 -g\n",
    "\n",
    "\n",
    "#w3 = Web3(Web3.HTTPProvider(\"http://127.0.0.1:8545\"))\n",
    "#w3.middleware_onion.inject(geth_poa_middleware, layer=0)\n",
    " \n",
    "# Create a function called `derive_wallets`\n",
    "def derive_wallets(mnemonic, coin, numderive):\n",
    "    \"\"\"\n",
    "    This is a function to derive the wallet addresses\n",
    "    \n",
    "    \"\"\"\n",
    "    command = f'php derive -g --mnemonic=\"{mnemonic}\" --cols=path,address,privkey,pubkey --coin={coin} --numderive={numderive} --format=json'\n",
    "    p = subprocess.Popen(command, stdout=subprocess.PIPE, shell=True)\n",
    "    output, err = p.communicate()\n",
    "    p_status = p.wait()\n",
    "    return json.loads(output)\n",
    "\n",
    "# Create a dictionary object called coins to store the output from `derive_wallets`.\n",
    "coins = {}\n",
    "crypto = [constants.ETH, constants.BTCTEST]\n",
    "for c in crypto:\n",
    "    coins[c] = derive_wallets(mnemonic, c, 3)\n",
    "    \n",
    "\n",
    "    \n",
    "\n",
    "\n",
    "def priv_key_to_account(coin, priv_key):\n",
    "    \"\"\"\n",
    "    This is a function that converts privkey strings to account objects.\n",
    "    parameters: coin     = name of coin\n",
    "                priv_key = private key for the coin\n",
    "    \"\"\"\n",
    "    if coin == 'eth':\n",
    "        return Account.privateKeyToAccount(priv_key)\n",
    "    elif coin == 'btc-test':\n",
    "        return PrivateKeyTestnet(priv_key)\n",
    "\n",
    "    \n",
    "    \n",
    "    \n",
    "# Create a function called `create_tx` that creates an unsigned transaction appropriate metadata.\n",
    "def create_tx(coin, account, to, amount):\n",
    "    if coin == 'eth':\n",
    "        gasEstimate = w3.eth.estimateGas({\"from\": account.address, \"to\": to, \"value\": amount})\n",
    "        return {\n",
    "        \"from\": account.address,\n",
    "        \"to\": to,\n",
    "        \"value\": amount,\n",
    "        \"gasPrice\": w3.eth.gasPrice,\n",
    "        \"gas\": gasEstimate,\n",
    "        \"nonce\": w3.eth.getTransactionCount(account.address),\n",
    "        }\n",
    "    elif coin == 'btc-test':\n",
    "        return PrivateKeyTestnet.prepare_transaction(account.address, [(to, amount, 'btc')])\n",
    "\n",
    "    \n",
    "# Create a function called `send_tx` that calls `create_tx`, signs and sends the transaction.\n",
    "def send_tx(coin, account, to, amount):\n",
    "    if coin == 'eth':\n",
    "        raw_tx = create_tx(coin, account, to, amount)\n",
    "        signed_tx = account.sign_transaction(raw_tx)\n",
    "        return w3.eth.sendRawTransaction(signed_tx.rawTransaction)\n",
    "    elif coin == 'btc-test':\n",
    "        raw_tx = create_tx(coin, account, to, amount)\n",
    "        signed_tx = account.sign_transaction(raw_tx)\n",
    "        return network.NetworkAPI.broadcast_tx_testnet(signed_tx)    \n",
    "    \n",
    "    \n",
    "# connect to geth local host\n",
    "w3 = Web3(Web3.HTTPProvider(\"http://127.0.0.1:8545\"))\n",
    "w3.middleware_onion.inject(geth_poa_middleware, layer=0)\n",
    "\n",
    "    \n",
    "btc_test = constants.BTCTEST\n",
    "priv = coins['btc-test'][0]['privkey']\n",
    "account = priv_key_to_account(btc_test, priv)\n",
    "\n",
    "\n",
    "print(f\"mnemonic = {mnemonic}\")\n",
    "print(btc_test)\n",
    "print(f\"account: {account}\")\n",
    "print(f\"privateKey: {priv}\")\n"
   ]
  },
  {
   "cell_type": "code",
   "execution_count": 2,
   "id": "90113665-3284-4bbc-8bbe-974e487be462",
   "metadata": {},
   "outputs": [
    {
     "name": "stdout",
     "output_type": "stream",
     "text": [
      "None\n"
     ]
    }
   ],
   "source": [
    "\n",
    "# Perform Transfer of 0.00001BTC Back to the depositing address\n",
    "to = 'tb1qy9tzfnf37676y69ecmk2kt9cyhw4ex6yzufk86'\n",
    "transfer = send_tx(btc_test, account, to, 0.00001)\n",
    "\n"
   ]
  },
  {
   "cell_type": "code",
   "execution_count": 4,
   "id": "c4cf8bc0-e991-4790-977c-baa76529f82e",
   "metadata": {},
   "outputs": [
    {
     "name": "stdout",
     "output_type": "stream",
     "text": [
      "eth\n",
      "account: <eth_account.signers.local.LocalAccount object at 0x000001458123E9A0>\n",
      "privateKey: 0x37626e2c3bbf383c324c190e9c593c27d891b83322f6d8ae94229aa4843c513e\n"
     ]
    }
   ],
   "source": [
    "eth = constants.ETH\n",
    "eth_priv = coins['eth'][0]['privkey']\n",
    "eth_account = priv_key_to_account(eth, eth_priv)\n",
    "\n",
    "print(eth)\n",
    "print(f\"account: {eth_account}\")\n",
    "print(f\"privateKey: {eth_priv}\")\n"
   ]
  },
  {
   "cell_type": "code",
   "execution_count": 15,
   "id": "077c9cc2-4f81-4adf-84d5-15ff27b93fea",
   "metadata": {},
   "outputs": [
    {
     "ename": "ValueError",
     "evalue": "{'message': \"sender doesn't have enough funds to send tx. The upfront cost is: 5000420000000000000 and the sender's account only has: 0\", 'code': -32000, 'data': {'stack': \"Error: sender doesn't have enough funds to send tx. The upfront cost is: 5000420000000000000 and the sender's account only has: 0\\n    at VM.<anonymous> (C:\\\\Program Files\\\\WindowsApps\\\\GanacheUI_2.5.4.0_x64__5dg5pnz03psnj\\\\app\\\\resources\\\\static\\\\node\\\\node_modules\\\\ganache-core\\\\node_modules\\\\ethereumjs-vm\\\\lib\\\\runTx.ts:114:11)\\n    at step (C:\\\\Program Files\\\\WindowsApps\\\\GanacheUI_2.5.4.0_x64__5dg5pnz03psnj\\\\app\\\\resources\\\\static\\\\node\\\\node_modules\\\\ganache-core\\\\node_modules\\\\ethereumjs-vm\\\\dist\\\\runTx.js:33:23)\\n    at Object.next (C:\\\\Program Files\\\\WindowsApps\\\\GanacheUI_2.5.4.0_x64__5dg5pnz03psnj\\\\app\\\\resources\\\\static\\\\node\\\\node_modules\\\\ganache-core\\\\node_modules\\\\ethereumjs-vm\\\\dist\\\\runTx.js:14:53)\\n    at fulfilled (C:\\\\Program Files\\\\WindowsApps\\\\GanacheUI_2.5.4.0_x64__5dg5pnz03psnj\\\\app\\\\resources\\\\static\\\\node\\\\node_modules\\\\ganache-core\\\\node_modules\\\\ethereumjs-vm\\\\dist\\\\runTx.js:5:58)\\n    at processTicksAndRejections (internal/process/task_queues.js:93:5)\", 'name': 'Error'}}",
     "output_type": "error",
     "traceback": [
      "\u001b[1;31m---------------------------------------------------------------------------\u001b[0m",
      "\u001b[1;31mValueError\u001b[0m                                Traceback (most recent call last)",
      "\u001b[1;32m<ipython-input-15-bfca580ebcd6>\u001b[0m in \u001b[0;36m<module>\u001b[1;34m\u001b[0m\n\u001b[0;32m      1\u001b[0m \u001b[0mto\u001b[0m \u001b[1;33m=\u001b[0m \u001b[1;34m'0xd55394285f4170f34d7dFEA17274E7A98ca75e35'\u001b[0m\u001b[1;33m\u001b[0m\u001b[1;33m\u001b[0m\u001b[0m\n\u001b[1;32m----> 2\u001b[1;33m \u001b[0msend_tx\u001b[0m\u001b[1;33m(\u001b[0m\u001b[0meth\u001b[0m\u001b[1;33m,\u001b[0m \u001b[0meth_account\u001b[0m\u001b[1;33m,\u001b[0m \u001b[0mto\u001b[0m\u001b[1;33m,\u001b[0m \u001b[1;36m5000000000000000000\u001b[0m\u001b[1;33m)\u001b[0m\u001b[1;33m\u001b[0m\u001b[1;33m\u001b[0m\u001b[0m\n\u001b[0m",
      "\u001b[1;32m<ipython-input-1-4b0c23c99a2f>\u001b[0m in \u001b[0;36msend_tx\u001b[1;34m(coin, account, to, amount)\u001b[0m\n\u001b[0;32m     86\u001b[0m         \u001b[0mraw_tx\u001b[0m \u001b[1;33m=\u001b[0m \u001b[0mcreate_tx\u001b[0m\u001b[1;33m(\u001b[0m\u001b[0mcoin\u001b[0m\u001b[1;33m,\u001b[0m \u001b[0maccount\u001b[0m\u001b[1;33m,\u001b[0m \u001b[0mto\u001b[0m\u001b[1;33m,\u001b[0m \u001b[0mamount\u001b[0m\u001b[1;33m)\u001b[0m\u001b[1;33m\u001b[0m\u001b[1;33m\u001b[0m\u001b[0m\n\u001b[0;32m     87\u001b[0m         \u001b[0msigned_tx\u001b[0m \u001b[1;33m=\u001b[0m \u001b[0maccount\u001b[0m\u001b[1;33m.\u001b[0m\u001b[0msign_transaction\u001b[0m\u001b[1;33m(\u001b[0m\u001b[0mraw_tx\u001b[0m\u001b[1;33m)\u001b[0m\u001b[1;33m\u001b[0m\u001b[1;33m\u001b[0m\u001b[0m\n\u001b[1;32m---> 88\u001b[1;33m         \u001b[1;32mreturn\u001b[0m \u001b[0mw3\u001b[0m\u001b[1;33m.\u001b[0m\u001b[0meth\u001b[0m\u001b[1;33m.\u001b[0m\u001b[0msendRawTransaction\u001b[0m\u001b[1;33m(\u001b[0m\u001b[0msigned_tx\u001b[0m\u001b[1;33m.\u001b[0m\u001b[0mrawTransaction\u001b[0m\u001b[1;33m)\u001b[0m\u001b[1;33m\u001b[0m\u001b[1;33m\u001b[0m\u001b[0m\n\u001b[0m\u001b[0;32m     89\u001b[0m     \u001b[1;32melif\u001b[0m \u001b[0mcoin\u001b[0m \u001b[1;33m==\u001b[0m \u001b[1;34m'btc-test'\u001b[0m\u001b[1;33m:\u001b[0m\u001b[1;33m\u001b[0m\u001b[1;33m\u001b[0m\u001b[0m\n\u001b[0;32m     90\u001b[0m         \u001b[0mraw_tx\u001b[0m \u001b[1;33m=\u001b[0m \u001b[0mcreate_tx\u001b[0m\u001b[1;33m(\u001b[0m\u001b[0mcoin\u001b[0m\u001b[1;33m,\u001b[0m \u001b[0maccount\u001b[0m\u001b[1;33m,\u001b[0m \u001b[0mto\u001b[0m\u001b[1;33m,\u001b[0m \u001b[0mamount\u001b[0m\u001b[1;33m)\u001b[0m\u001b[1;33m\u001b[0m\u001b[1;33m\u001b[0m\u001b[0m\n",
      "\u001b[1;32m~\\anaconda3\\lib\\site-packages\\web3\\eth.py\u001b[0m in \u001b[0;36msend_raw_transaction\u001b[1;34m(self, transaction)\u001b[0m\n\u001b[0;32m    696\u001b[0m \u001b[1;33m\u001b[0m\u001b[0m\n\u001b[0;32m    697\u001b[0m     \u001b[1;32mdef\u001b[0m \u001b[0msend_raw_transaction\u001b[0m\u001b[1;33m(\u001b[0m\u001b[0mself\u001b[0m\u001b[1;33m,\u001b[0m \u001b[0mtransaction\u001b[0m\u001b[1;33m:\u001b[0m \u001b[0mUnion\u001b[0m\u001b[1;33m[\u001b[0m\u001b[0mHexStr\u001b[0m\u001b[1;33m,\u001b[0m \u001b[0mbytes\u001b[0m\u001b[1;33m]\u001b[0m\u001b[1;33m)\u001b[0m \u001b[1;33m->\u001b[0m \u001b[0mHexBytes\u001b[0m\u001b[1;33m:\u001b[0m\u001b[1;33m\u001b[0m\u001b[1;33m\u001b[0m\u001b[0m\n\u001b[1;32m--> 698\u001b[1;33m         \u001b[1;32mreturn\u001b[0m \u001b[0mself\u001b[0m\u001b[1;33m.\u001b[0m\u001b[0m_send_raw_transaction\u001b[0m\u001b[1;33m(\u001b[0m\u001b[0mtransaction\u001b[0m\u001b[1;33m)\u001b[0m\u001b[1;33m\u001b[0m\u001b[1;33m\u001b[0m\u001b[0m\n\u001b[0m\u001b[0;32m    699\u001b[0m \u001b[1;33m\u001b[0m\u001b[0m\n\u001b[0;32m    700\u001b[0m     def sign_munger(\n",
      "\u001b[1;32m~\\anaconda3\\lib\\site-packages\\web3\\module.py\u001b[0m in \u001b[0;36mcaller\u001b[1;34m(*args, **kwargs)\u001b[0m\n\u001b[0;32m     55\u001b[0m             \u001b[1;32mreturn\u001b[0m \u001b[0mLogFilter\u001b[0m\u001b[1;33m(\u001b[0m\u001b[0meth_module\u001b[0m\u001b[1;33m=\u001b[0m\u001b[0mmodule\u001b[0m\u001b[1;33m,\u001b[0m \u001b[0mfilter_id\u001b[0m\u001b[1;33m=\u001b[0m\u001b[0merr\u001b[0m\u001b[1;33m.\u001b[0m\u001b[0mfilter_id\u001b[0m\u001b[1;33m)\u001b[0m\u001b[1;33m\u001b[0m\u001b[1;33m\u001b[0m\u001b[0m\n\u001b[0;32m     56\u001b[0m         \u001b[0mresult_formatters\u001b[0m\u001b[1;33m,\u001b[0m \u001b[0merror_formatters\u001b[0m\u001b[1;33m,\u001b[0m \u001b[0mnull_result_formatters\u001b[0m \u001b[1;33m=\u001b[0m \u001b[0mresponse_formatters\u001b[0m\u001b[1;33m\u001b[0m\u001b[1;33m\u001b[0m\u001b[0m\n\u001b[1;32m---> 57\u001b[1;33m         result = w3.manager.request_blocking(method_str,\n\u001b[0m\u001b[0;32m     58\u001b[0m                                              \u001b[0mparams\u001b[0m\u001b[1;33m,\u001b[0m\u001b[1;33m\u001b[0m\u001b[1;33m\u001b[0m\u001b[0m\n\u001b[0;32m     59\u001b[0m                                              \u001b[0merror_formatters\u001b[0m\u001b[1;33m,\u001b[0m\u001b[1;33m\u001b[0m\u001b[1;33m\u001b[0m\u001b[0m\n",
      "\u001b[1;32m~\\anaconda3\\lib\\site-packages\\web3\\manager.py\u001b[0m in \u001b[0;36mrequest_blocking\u001b[1;34m(self, method, params, error_formatters, null_result_formatters)\u001b[0m\n\u001b[0;32m    185\u001b[0m         \"\"\"\n\u001b[0;32m    186\u001b[0m         \u001b[0mresponse\u001b[0m \u001b[1;33m=\u001b[0m \u001b[0mself\u001b[0m\u001b[1;33m.\u001b[0m\u001b[0m_make_request\u001b[0m\u001b[1;33m(\u001b[0m\u001b[0mmethod\u001b[0m\u001b[1;33m,\u001b[0m \u001b[0mparams\u001b[0m\u001b[1;33m)\u001b[0m\u001b[1;33m\u001b[0m\u001b[1;33m\u001b[0m\u001b[0m\n\u001b[1;32m--> 187\u001b[1;33m         return self.formatted_response(response,\n\u001b[0m\u001b[0;32m    188\u001b[0m                                        \u001b[0mparams\u001b[0m\u001b[1;33m,\u001b[0m\u001b[1;33m\u001b[0m\u001b[1;33m\u001b[0m\u001b[0m\n\u001b[0;32m    189\u001b[0m                                        \u001b[0merror_formatters\u001b[0m\u001b[1;33m,\u001b[0m\u001b[1;33m\u001b[0m\u001b[1;33m\u001b[0m\u001b[0m\n",
      "\u001b[1;32m~\\anaconda3\\lib\\site-packages\\web3\\manager.py\u001b[0m in \u001b[0;36mformatted_response\u001b[1;34m(self, response, params, error_formatters, null_result_formatters)\u001b[0m\n\u001b[0;32m    166\u001b[0m         \u001b[1;32mif\u001b[0m \u001b[1;34m\"error\"\u001b[0m \u001b[1;32min\u001b[0m \u001b[0mresponse\u001b[0m\u001b[1;33m:\u001b[0m\u001b[1;33m\u001b[0m\u001b[1;33m\u001b[0m\u001b[0m\n\u001b[0;32m    167\u001b[0m             \u001b[0mapply_error_formatters\u001b[0m\u001b[1;33m(\u001b[0m\u001b[0merror_formatters\u001b[0m\u001b[1;33m,\u001b[0m \u001b[0mresponse\u001b[0m\u001b[1;33m)\u001b[0m\u001b[1;33m\u001b[0m\u001b[1;33m\u001b[0m\u001b[0m\n\u001b[1;32m--> 168\u001b[1;33m             \u001b[1;32mraise\u001b[0m \u001b[0mValueError\u001b[0m\u001b[1;33m(\u001b[0m\u001b[0mresponse\u001b[0m\u001b[1;33m[\u001b[0m\u001b[1;34m\"error\"\u001b[0m\u001b[1;33m]\u001b[0m\u001b[1;33m)\u001b[0m\u001b[1;33m\u001b[0m\u001b[1;33m\u001b[0m\u001b[0m\n\u001b[0m\u001b[0;32m    169\u001b[0m         \u001b[1;32melif\u001b[0m \u001b[0mresponse\u001b[0m\u001b[1;33m[\u001b[0m\u001b[1;34m'result'\u001b[0m\u001b[1;33m]\u001b[0m \u001b[1;32min\u001b[0m \u001b[0mNULL_RESPONSES\u001b[0m\u001b[1;33m:\u001b[0m\u001b[1;33m\u001b[0m\u001b[1;33m\u001b[0m\u001b[0m\n\u001b[0;32m    170\u001b[0m             \u001b[1;31m# null_result_formatters raise either a BlockNotFound\u001b[0m\u001b[1;33m\u001b[0m\u001b[1;33m\u001b[0m\u001b[1;33m\u001b[0m\u001b[0m\n",
      "\u001b[1;31mValueError\u001b[0m: {'message': \"sender doesn't have enough funds to send tx. The upfront cost is: 5000420000000000000 and the sender's account only has: 0\", 'code': -32000, 'data': {'stack': \"Error: sender doesn't have enough funds to send tx. The upfront cost is: 5000420000000000000 and the sender's account only has: 0\\n    at VM.<anonymous> (C:\\\\Program Files\\\\WindowsApps\\\\GanacheUI_2.5.4.0_x64__5dg5pnz03psnj\\\\app\\\\resources\\\\static\\\\node\\\\node_modules\\\\ganache-core\\\\node_modules\\\\ethereumjs-vm\\\\lib\\\\runTx.ts:114:11)\\n    at step (C:\\\\Program Files\\\\WindowsApps\\\\GanacheUI_2.5.4.0_x64__5dg5pnz03psnj\\\\app\\\\resources\\\\static\\\\node\\\\node_modules\\\\ganache-core\\\\node_modules\\\\ethereumjs-vm\\\\dist\\\\runTx.js:33:23)\\n    at Object.next (C:\\\\Program Files\\\\WindowsApps\\\\GanacheUI_2.5.4.0_x64__5dg5pnz03psnj\\\\app\\\\resources\\\\static\\\\node\\\\node_modules\\\\ganache-core\\\\node_modules\\\\ethereumjs-vm\\\\dist\\\\runTx.js:14:53)\\n    at fulfilled (C:\\\\Program Files\\\\WindowsApps\\\\GanacheUI_2.5.4.0_x64__5dg5pnz03psnj\\\\app\\\\resources\\\\static\\\\node\\\\node_modules\\\\ganache-core\\\\node_modules\\\\ethereumjs-vm\\\\dist\\\\runTx.js:5:58)\\n    at processTicksAndRejections (internal/process/task_queues.js:93:5)\", 'name': 'Error'}}"
     ]
    }
   ],
   "source": [
    "to = '0xd55394285f4170f34d7dFEA17274E7A98ca75e35'\n",
    "send_tx(eth, eth_account, to, 5000000000000000000)\n",
    "\n",
    "# stuck here, the account has no funds to transfer as shown in error \n",
    "\n"
   ]
  },
  {
   "cell_type": "code",
   "execution_count": null,
   "id": "14bade3c-d357-4627-8aa7-133742c5bdb2",
   "metadata": {},
   "outputs": [],
   "source": []
  }
 ],
 "metadata": {
  "kernelspec": {
   "display_name": "Python 3",
   "language": "python",
   "name": "python3"
  },
  "language_info": {
   "codemirror_mode": {
    "name": "ipython",
    "version": 3
   },
   "file_extension": ".py",
   "mimetype": "text/x-python",
   "name": "python",
   "nbconvert_exporter": "python",
   "pygments_lexer": "ipython3",
   "version": "3.8.8"
  }
 },
 "nbformat": 4,
 "nbformat_minor": 5
}
